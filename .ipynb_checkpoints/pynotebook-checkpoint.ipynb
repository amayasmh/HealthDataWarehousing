{
 "cells": [
  {
   "cell_type": "code",
   "execution_count": 2,
   "id": "2a98d1f4-3bff-4b6d-b0ad-154eec871ee4",
   "metadata": {},
   "outputs": [
    {
     "data": {
      "text/html": [
       "<div>\n",
       "<style scoped>\n",
       "    .dataframe tbody tr th:only-of-type {\n",
       "        vertical-align: middle;\n",
       "    }\n",
       "\n",
       "    .dataframe tbody tr th {\n",
       "        vertical-align: top;\n",
       "    }\n",
       "\n",
       "    .dataframe thead th {\n",
       "        text-align: right;\n",
       "    }\n",
       "</style>\n",
       "<table border=\"1\" class=\"dataframe\">\n",
       "  <thead>\n",
       "    <tr style=\"text-align: right;\">\n",
       "      <th></th>\n",
       "      <th>dep;date_de_passage;sursaud_cl_age_corona;nbre_pass_corona;nbre_pass_tot;nbre_hospit_corona;nbre_pass_corona_h;nbre_pass_corona_f;nbre_pass_tot_h;nbre_pass_tot_f;nbre_hospit_corona_h;nbre_hospit_corona_f;nbre_acte_corona;nbre_acte_tot;nbre_acte_corona_h;nbre_acte_corona_f;nbre_acte_tot_h;nbre_acte_tot_f</th>\n",
       "    </tr>\n",
       "  </thead>\n",
       "  <tbody>\n",
       "    <tr>\n",
       "      <th>0</th>\n",
       "      <td>01;2022-12-26;0;9;435;4;6;3;219;216;1;3;;;;;;</td>\n",
       "    </tr>\n",
       "    <tr>\n",
       "      <th>1</th>\n",
       "      <td>01;2022-12-26;1;0;58;0;;;;;;;;;;;;</td>\n",
       "    </tr>\n",
       "    <tr>\n",
       "      <th>2</th>\n",
       "      <td>01;2022-12-26;2;0;30;0;;;;;;;;;;;;</td>\n",
       "    </tr>\n",
       "    <tr>\n",
       "      <th>3</th>\n",
       "      <td>01;2022-12-26;3;1;138;0;;;;;;;;;;;;</td>\n",
       "    </tr>\n",
       "    <tr>\n",
       "      <th>4</th>\n",
       "      <td>01;2022-12-26;4;1;88;0;;;;;;;;;;;;</td>\n",
       "    </tr>\n",
       "    <tr>\n",
       "      <th>...</th>\n",
       "      <td>...</td>\n",
       "    </tr>\n",
       "    <tr>\n",
       "      <th>214216</th>\n",
       "      <td>976;2023-10-24;2;0;4;0;;;;;;;;;;;;</td>\n",
       "    </tr>\n",
       "    <tr>\n",
       "      <th>214217</th>\n",
       "      <td>976;2023-10-24;3;0;22;0;;;;;;;;;;;;</td>\n",
       "    </tr>\n",
       "    <tr>\n",
       "      <th>214218</th>\n",
       "      <td>976;2023-10-24;4;0;6;0;;;;;;;;;;;;</td>\n",
       "    </tr>\n",
       "    <tr>\n",
       "      <th>214219</th>\n",
       "      <td>976;2023-10-24;5;0;1;0;;;;;;;;;;;;</td>\n",
       "    </tr>\n",
       "    <tr>\n",
       "      <th>214220</th>\n",
       "      <td>976;2023-10-24;6;;;;;;;;;;;;;;;</td>\n",
       "    </tr>\n",
       "  </tbody>\n",
       "</table>\n",
       "<p>214221 rows × 1 columns</p>\n",
       "</div>"
      ],
      "text/plain": [
       "       dep;date_de_passage;sursaud_cl_age_corona;nbre_pass_corona;nbre_pass_tot;nbre_hospit_corona;nbre_pass_corona_h;nbre_pass_corona_f;nbre_pass_tot_h;nbre_pass_tot_f;nbre_hospit_corona_h;nbre_hospit_corona_f;nbre_acte_corona;nbre_acte_tot;nbre_acte_corona_h;nbre_acte_corona_f;nbre_acte_tot_h;nbre_acte_tot_f\n",
       "0           01;2022-12-26;0;9;435;4;6;3;219;216;1;3;;;;;;                                                                                                                                                                                                                                                              \n",
       "1                      01;2022-12-26;1;0;58;0;;;;;;;;;;;;                                                                                                                                                                                                                                                              \n",
       "2                      01;2022-12-26;2;0;30;0;;;;;;;;;;;;                                                                                                                                                                                                                                                              \n",
       "3                     01;2022-12-26;3;1;138;0;;;;;;;;;;;;                                                                                                                                                                                                                                                              \n",
       "4                      01;2022-12-26;4;1;88;0;;;;;;;;;;;;                                                                                                                                                                                                                                                              \n",
       "...                                                   ...                                                                                                                                                                                                                                                              \n",
       "214216                 976;2023-10-24;2;0;4;0;;;;;;;;;;;;                                                                                                                                                                                                                                                              \n",
       "214217                976;2023-10-24;3;0;22;0;;;;;;;;;;;;                                                                                                                                                                                                                                                              \n",
       "214218                 976;2023-10-24;4;0;6;0;;;;;;;;;;;;                                                                                                                                                                                                                                                              \n",
       "214219                 976;2023-10-24;5;0;1;0;;;;;;;;;;;;                                                                                                                                                                                                                                                              \n",
       "214220                    976;2023-10-24;6;;;;;;;;;;;;;;;                                                                                                                                                                                                                                                              \n",
       "\n",
       "[214221 rows x 1 columns]"
      ]
     },
     "execution_count": 2,
     "metadata": {},
     "output_type": "execute_result"
    }
   ],
   "source": [
    "import pandas as pd\n",
    "df = pd.read_csv(\"Data/raw/donnees-urgences-SOS-medecins.csv\",\n",
    "                        sep=\";\",\n",
    "                        dtype=\"unicode\",\n",
    "                        usecols = [\"dep\",\"nbre_pass_corona\", \"nbre_hospit_corona\", \"nbre_pass_corona_h\" ])\n",
    "df\n"
   ]
  },
  {
   "cell_type": "code",
   "execution_count": null,
   "id": "e39905bb-56d1-4666-8e1b-42912d0bea3d",
   "metadata": {},
   "outputs": [],
   "source": []
  }
 ],
 "metadata": {
  "kernelspec": {
   "display_name": "Python 3 (ipykernel)",
   "language": "python",
   "name": "python3"
  },
  "language_info": {
   "codemirror_mode": {
    "name": "ipython",
    "version": 3
   },
   "file_extension": ".py",
   "mimetype": "text/x-python",
   "name": "python",
   "nbconvert_exporter": "python",
   "pygments_lexer": "ipython3",
   "version": "3.8.10"
  }
 },
 "nbformat": 4,
 "nbformat_minor": 5
}
